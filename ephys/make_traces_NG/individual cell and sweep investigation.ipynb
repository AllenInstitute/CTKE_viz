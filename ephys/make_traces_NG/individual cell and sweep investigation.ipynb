{
 "cells": [
  {
   "cell_type": "code",
   "execution_count": 3,
   "metadata": {},
   "outputs": [],
   "source": [
    "import numpy as np\n",
    "import pandas as pd\n",
    "import matplotlib.pyplot as plt\n",
    "import seaborn as sns\n",
    "\n",
    "from ipfx.dataset.create import create_ephys_data_set\n",
    "import ipfx.script_utils as su\n",
    "import ipfx.data_set_features as dsf\n",
    "import ipfx.stimulus_protocol_analysis as spa\n",
    "import ipfx.time_series_utils as tsu\n"
   ]
  },
  {
   "cell_type": "code",
   "execution_count": 4,
   "metadata": {},
   "outputs": [],
   "source": [
    "nwb2_path = \"/allen/programs/celltypes/workgroups/ivscc/nathang/cell_cards_ephys/nwb/000008/sub-mouse-PIDAD/sub-mouse-PIDAD_ses-20180720-sample-2_slice-20180720-slice-2_cell-20180720-sample-2_icephys.nwb\""
   ]
  },
  {
   "cell_type": "code",
   "execution_count": 5,
   "metadata": {},
   "outputs": [],
   "source": [
    "data_set = create_ephys_data_set(nwb_file=nwb2_path, load_into_memory=False)"
   ]
  },
  {
   "cell_type": "code",
   "execution_count": 55,
   "metadata": {},
   "outputs": [],
   "source": [
    "\n",
    "d = data_set.get_sweep_data(12)"
   ]
  },
  {
   "cell_type": "code",
   "execution_count": 56,
   "metadata": {},
   "outputs": [
    {
     "data": {
      "text/plain": [
       "[<matplotlib.lines.Line2D at 0x7f696f9c8e10>]"
      ]
     },
     "execution_count": 56,
     "metadata": {},
     "output_type": "execute_result"
    },
    {
     "data": {
      "image/png": "[encoded data removed]",
      "text/plain": [
       "<Figure size 432x288 with 1 Axes>"
      ]
     },
     "metadata": {
      "needs_background": "light"
     },
     "output_type": "display_data"
    }
   ],
   "source": [
    "plt.plot(d[\"response\"])"
   ]
  },
  {
   "cell_type": "code",
   "execution_count": 57,
   "metadata": {},
   "outputs": [
    {
     "data": {
      "text/plain": [
       "22500"
      ]
     },
     "execution_count": 57,
     "metadata": {},
     "output_type": "execute_result"
    }
   ],
   "source": [
    "len(d[\"stimulus\"])"
   ]
  },
  {
   "cell_type": "code",
   "execution_count": 49,
   "metadata": {},
   "outputs": [
    {
     "data": {
      "text/plain": [
       "25000"
      ]
     },
     "execution_count": 49,
     "metadata": {},
     "output_type": "execute_result"
    }
   ],
   "source": [
    "len(d[\"response\"])"
   ]
  },
  {
   "cell_type": "code",
   "execution_count": 50,
   "metadata": {},
   "outputs": [
    {
     "name": "stderr",
     "output_type": "stream",
     "text": [
      "Could not find stimulus: NA\n"
     ]
    }
   ],
   "source": [
    "good_sweep_numbers = []\n",
    "for sn in data_set._data.sweep_numbers:\n",
    "    try:\n",
    "        d = data_set.get_sweep_data(sn)\n",
    "        swp = data_set.sweep(sn, enforce_equal_length=False)\n",
    "        good_sweep_numbers.append(sn)\n",
    "    except:\n",
    "        continue\n",
    "    "
   ]
  },
  {
   "cell_type": "code",
   "execution_count": 51,
   "metadata": {},
   "outputs": [
    {
     "data": {
      "text/plain": [
       "[0,\n",
       " 1,\n",
       " 2,\n",
       " 3,\n",
       " 4,\n",
       " 5,\n",
       " 6,\n",
       " 7,\n",
       " 8,\n",
       " 9,\n",
       " 11,\n",
       " 12,\n",
       " 13,\n",
       " 14,\n",
       " 15,\n",
       " 16,\n",
       " 17,\n",
       " 18,\n",
       " 19,\n",
       " 20,\n",
       " 21,\n",
       " 22,\n",
       " 23,\n",
       " 24,\n",
       " 25,\n",
       " 26,\n",
       " 27,\n",
       " 28,\n",
       " 29,\n",
       " 30,\n",
       " 31,\n",
       " 32,\n",
       " 33,\n",
       " 34,\n",
       " 35,\n",
       " 36,\n",
       " 37,\n",
       " 38,\n",
       " 39,\n",
       " 40,\n",
       " 41,\n",
       " 42,\n",
       " 43,\n",
       " 44,\n",
       " 45,\n",
       " 46,\n",
       " 47,\n",
       " 48,\n",
       " 49,\n",
       " 50,\n",
       " 51,\n",
       " 52,\n",
       " 53,\n",
       " 54,\n",
       " 55,\n",
       " 56,\n",
       " 57,\n",
       " 58,\n",
       " 59,\n",
       " 60,\n",
       " 61,\n",
       " 62,\n",
       " 63,\n",
       " 64,\n",
       " 65,\n",
       " 66,\n",
       " 67,\n",
       " 68,\n",
       " 69,\n",
       " 70,\n",
       " 71,\n",
       " 72,\n",
       " 73,\n",
       " 74,\n",
       " 75,\n",
       " 76,\n",
       " 77,\n",
       " 78,\n",
       " 79]"
      ]
     },
     "execution_count": 51,
     "metadata": {},
     "output_type": "execute_result"
    }
   ],
   "source": [
    "good_sweep_numbers"
   ]
  },
  {
   "cell_type": "code",
   "execution_count": 52,
   "metadata": {},
   "outputs": [
    {
     "name": "stdout",
     "output_type": "stream",
     "text": [
      "0 {'stimulus': array([-0., -0., -0., ..., -0., -0., -0.]), 'response': array([-63907.36997128, -63901.27539635, -63894.29420233, ...,\n",
      "       -63844.39766407, -63835.44206619, -63829.25063372]), 'stimulus_unit': 'Amps', 'sampling_rate': 25000.0}\n"
     ]
    }
   ],
   "source": [
    "for sn in good_sweep_numbers:\n",
    "    d = data_set.get_sweep_data(sn)\n",
    "    if len(d[\"stimulus\"]) != len(d[\"response\"]):\n",
    "        print(sn, d)\n",
    "        break"
   ]
  },
  {
   "cell_type": "code",
   "execution_count": 53,
   "metadata": {},
   "outputs": [
    {
     "data": {
      "text/plain": [
       "[<matplotlib.lines.Line2D at 0x7f696d9719d0>]"
      ]
     },
     "execution_count": 53,
     "metadata": {},
     "output_type": "execute_result"
    },
    {
     "data": {
      "image/png": "[encoded data removed]",
      "text/plain": [
       "<Figure size 432x288 with 1 Axes>"
      ]
     },
     "metadata": {
      "needs_background": "light"
     },
     "output_type": "display_data"
    }
   ],
   "source": [
    "plt.plot(d[\"response\"])\n",
    "# plt.plot(d[\"stimulus\"])"
   ]
  },
  {
   "cell_type": "code",
   "execution_count": 54,
   "metadata": {},
   "outputs": [
    {
     "data": {
      "text/plain": [
       "[<matplotlib.lines.Line2D at 0x7f6973cba310>]"
      ]
     },
     "execution_count": 54,
     "metadata": {},
     "output_type": "execute_result"
    },
    {
     "data": {
      "image/png": "[encoded data removed]",
      "text/plain": [
       "<Figure size 432x288 with 1 Axes>"
      ]
     },
     "metadata": {
      "needs_background": "light"
     },
     "output_type": "display_data"
    }
   ],
   "source": [
    "plt.plot(d[\"stimulus\"])\n",
    "\n"
   ]
  },
  {
   "cell_type": "code",
   "execution_count": 44,
   "metadata": {},
   "outputs": [],
   "source": [
    "def process_sweeps(data_set, sweep_numbers, subthresh_min_amp=-100):\n",
    "    lsq_sweeps = data_set.sweep_set(sweep_numbers, enforce_equal_length=False)\n",
    "\n",
    "    # Correct sweep amplitudes & lengths\n",
    "    for swp in lsq_sweeps.sweeps:\n",
    "        print(swp.sweep_number)\n",
    "        swp._i = swp._i * 1e-12\n",
    "        swp._v = swp._v * 1e-3\n",
    "        \n",
    "        min_len = min(len(swp._i), len(swp._v))\n",
    "        swp._i = swp._i[:min_len]\n",
    "        swp._v = swp._v[:min_len]\n",
    "\n",
    "    \n",
    "    # get timing from first sweep\n",
    "    swp = lsq_sweeps.sweeps[0]\n",
    "\n",
    "    # Determine the sweep amplitude\n",
    "    min_i = np.min(swp.i)\n",
    "    max_i = np.max(swp.i)\n",
    "    if min_i < 0:\n",
    "        stim_amp = min_i\n",
    "    else:\n",
    "        stim_amp = max_i\n",
    "\n",
    "    # Determine the start and end of the sweep\n",
    "    at_amp_ind = np.flatnonzero(swp.i == stim_amp)\n",
    "    start_ind = at_amp_ind[0]\n",
    "    lsq_start = swp.t[at_amp_ind[0]]\n",
    "    lsq_end = swp.t[at_amp_ind[-1]]\n",
    "    \n",
    "    lsq_spx, lsq_spfx = dsf.extractors_for_sweeps(\n",
    "        lsq_sweeps,\n",
    "        start=lsq_start,\n",
    "        end=lsq_end,\n",
    "        min_peak=-25,\n",
    "        **dsf.detection_parameters(data_set.LONG_SQUARE)\n",
    "    )\n",
    "        \n",
    "    lsq_an = spa.LongSquareAnalysis(lsq_spx, lsq_spfx,\n",
    "        subthresh_min_amp=subthresh_min_amp)\n",
    "    lsq_features = lsq_an.analyze(lsq_sweeps)\n",
    "\n",
    "    subthresh_numbers = lsq_features[\"subthreshold_membrane_property_sweeps\"].index.tolist()\n",
    "    \n",
    "    \n",
    "    rheo_number = lsq_features[\"rheobase_sweep\"].name\n",
    "    rheo_amp = lsq_features[\"rheobase_i\"]\n",
    "    \n",
    "    rheo_swp = lsq_sweeps.sweeps[rheo_number]\n",
    "    print(rheo_swp.sweep_number)\n",
    "\n",
    "    \n",
    "    print(rheo_number, rheo_amp)\n",
    "    \n",
    "    spiking_df = lsq_features[\"spiking_sweeps\"]\n",
    "    print(spiking_df)\n",
    "    rheo_plus_80_number = spiking_df.loc[spiking_df[\"stim_amp\"] == rheo_amp + 80, :].index.tolist()[0]\n",
    "    print(rheo_plus_80_number)\n",
    "    \n",
    "    fig, axes = plt.subplots(1, 2, gridspec_kw={\"width_ratios\": (1, 2),  \"wspace\":0.05})\n",
    "    for sn in subthresh_numbers:\n",
    "        swp = lsq_sweeps.sweeps[sn]\n",
    "        axes[1].plot(swp.t, swp.v, c=\"black\", lw=0.5)\n",
    "                \n",
    "    swp = lsq_sweeps.sweeps[rheo_number]\n",
    "    axes[1].plot(swp.t, swp.v, c=\"black\", lw=0.5)\n",
    "\n",
    "    print(lsq_features[\"spikes_set\"][rheo_number][\"threshold_index\"][0])\n",
    "    spike_start = lsq_features[\"spikes_set\"][rheo_number][\"threshold_t\"][0]\n",
    "    spike_end = spike_start + 0.005\n",
    "    spike_start_ind = tsu.find_time_index(swp.t, spike_start)\n",
    "    spike_end_ind = tsu.find_time_index(swp.t, spike_end)\n",
    "    axes[0].plot(swp.t[spike_start_ind:spike_end_ind] - spike_start, swp.v[spike_start_ind:spike_end_ind])\n",
    "    \n",
    "\n",
    "    swp = lsq_sweeps.sweeps[rheo_plus_80_number]\n",
    "    axes[1].plot(swp.t, swp.v + 120, c=\"black\", lw=0.5)\n",
    "\n",
    "    axes[0].set_ylim(-120, 60)\n",
    "    axes[0].set(yticks=[], xticks=[])\n",
    "    axes[1].set_ylim(-150, 200)\n",
    "    axes[1].set(yticks=[], xticks=[])\n",
    "\n",
    "    sns.despine(left=True, bottom=True)\n",
    "#     rheo_spikes = lsq_features\n",
    "    \n",
    "#     spike_wf = "
   ]
  },
  {
   "cell_type": "code",
   "execution_count": 45,
   "metadata": {
    "scrolled": false
   },
   "outputs": [
    {
     "name": "stderr",
     "output_type": "stream",
     "text": [
      "Could not find stimulus: NA\n"
     ]
    },
    {
     "name": "stdout",
     "output_type": "stream",
     "text": [
      "0\n",
      "1\n",
      "2\n",
      "3\n",
      "4\n",
      "5\n",
      "6\n",
      "7\n",
      "8\n",
      "9\n",
      "11\n",
      "12\n",
      "13\n",
      "14\n",
      "15\n",
      "16\n",
      "17\n",
      "18\n",
      "19\n",
      "20\n",
      "21\n",
      "22\n",
      "23\n",
      "24\n",
      "25\n",
      "26\n",
      "27\n",
      "28\n",
      "29\n",
      "30\n",
      "31\n",
      "32\n",
      "33\n",
      "34\n",
      "35\n",
      "36\n",
      "37\n",
      "38\n",
      "39\n",
      "40\n",
      "41\n",
      "42\n",
      "43\n",
      "44\n",
      "45\n",
      "46\n",
      "47\n",
      "48\n",
      "49\n",
      "50\n",
      "51\n",
      "52\n",
      "53\n",
      "54\n",
      "55\n",
      "56\n",
      "57\n",
      "58\n",
      "59\n",
      "60\n",
      "61\n",
      "62\n",
      "63\n",
      "64\n",
      "65\n",
      "66\n",
      "67\n",
      "68\n",
      "69\n",
      "70\n",
      "71\n",
      "72\n",
      "73\n",
      "74\n",
      "75\n",
      "76\n",
      "77\n",
      "78\n",
      "79\n",
      "11\n",
      "10 20.0\n",
      "     avg_rate                 peak_deflect  stim_amp  v_baseline        sag  \\\n",
      "7    3.333556  (-70.60369104146957, 12944)     -60.0  -62.753127   0.224334   \n",
      "10   3.333556   (30.993124470114708, 7135)      20.0  -62.357787 -24.775575   \n",
      "17   1.666778    (37.37761080265045, 3153)     160.0  -62.207523  -5.381582   \n",
      "18   5.000333    (36.85078024864197, 2969)     180.0  -62.848594  -4.806801   \n",
      "19   5.000333    (37.45719790458679, 2951)     200.0  -63.545990  -4.652673   \n",
      "20   3.333556    (38.96664083003998, 2810)     220.0  -62.974570  -4.231938   \n",
      "21   6.667111   (39.305318146944046, 2777)     240.0  -63.492109  -3.906232   \n",
      "22   5.000333    (38.71959447860718, 2785)     260.0  -63.891542  -4.291326   \n",
      "23   5.000333   (39.240140467882156, 2798)     280.0  -61.924372  -4.446832   \n",
      "24   6.667111   (39.911724627017975, 2753)     300.0  -61.679134  -4.294239   \n",
      "25  10.000667    (40.39753973484039, 2707)     320.0  -64.336163  -3.869868   \n",
      "26   6.667111    (41.02523252367973, 2702)     340.0  -64.881376  -3.948098   \n",
      "27   8.333889   (41.446659713983536, 2688)     360.0  -65.030439  -3.940393   \n",
      "28   8.333889    (41.40520095825195, 2680)     380.0  -65.107735  -3.637750   \n",
      "29  10.000667   (41.148580610752106, 2668)     400.0  -65.140599  -3.788617   \n",
      "30  10.000667    (41.95896163582802, 2655)     420.0  -64.873434  -3.498792   \n",
      "31  11.667444    (42.33856871724129, 2651)     440.0  -65.324983  -3.616977   \n",
      "32  15.001000    (41.86609759926796, 2644)     460.0  -65.590728  -3.489008   \n",
      "33  11.667444    (41.72704368829727, 2643)     480.0  -65.575508  -3.392352   \n",
      "34   8.333889    (42.43409261107445, 2632)     500.0  -63.094151  -3.507606   \n",
      "35  13.334222   (42.751822620630264, 2625)     520.0  -65.559341  -3.165445   \n",
      "36  13.334222   (42.888108640909195, 2625)     540.0  -65.806095  -3.755011   \n",
      "37  13.334222   (42.572762817144394, 2615)     560.0  -65.842086  -3.507788   \n",
      "38  10.000667    (41.76192730665207, 2613)     580.0  -65.994660  -3.219522   \n",
      "39  13.334222    (41.53072461485863, 2604)     600.0  -65.632678  -3.076297   \n",
      "40   8.333889    (41.84256121516228, 2602)     620.0  -65.804385  -3.172785   \n",
      "41  13.334222    (42.87426546216011, 2599)     640.0  -66.048058  -3.147733   \n",
      "42  13.334222    (43.57874020934105, 2593)     660.0  -65.756469  -2.991423   \n",
      "43   8.333889    (43.81681606173515, 2590)     680.0  -65.947722  -2.964239   \n",
      "44   6.667111    (44.01932656764984, 2589)     700.0  -65.904563  -2.996082   \n",
      "45   5.000333   (44.253163039684296, 2582)     720.0  -65.614737  -2.913933   \n",
      "46   3.333556    (44.78168860077858, 2580)     740.0  -65.438174  -2.765435   \n",
      "47   3.333556   (44.514987617731094, 2578)     760.0  -65.240335  -2.786140   \n",
      "48   3.333556    (44.61031034588814, 2575)     780.0  -65.109705  -2.516864   \n",
      "49   3.333556    (45.73240503668785, 2572)     800.0  -65.237118  -2.350934   \n",
      "50   3.333556    (46.46315798163414, 2569)     820.0  -65.365611  -2.138174   \n",
      "51   3.333556   (46.560466289520264, 2567)     840.0  -65.489189  -1.949457   \n",
      "52   1.666778    (46.78571596741676, 2565)     860.0  -64.800116  -1.749060   \n",
      "53   1.666778    (46.94776609539986, 2562)     880.0  -64.626777  -1.570375   \n",
      "54   1.666778   (47.209784388542175, 2560)     900.0  -64.551515  -1.335524   \n",
      "55   1.666778     (47.6420596241951, 2561)     920.0  -64.778012  -1.463352   \n",
      "56   1.666778     (48.1511615216732, 2559)     940.0  -64.504432  -1.349927   \n",
      "57   1.666778    (47.39122465252876, 2557)     960.0  -64.643941  -1.314231   \n",
      "58   1.666778   (47.706130892038345, 2556)     980.0  -64.096080  -1.226585   \n",
      "59   1.666778   (47.667987644672394, 2556)    1000.0  -64.219307  -1.260250   \n",
      "60   1.666778    (48.33586513996124, 2553)    1020.0  -63.918059  -1.091695   \n",
      "61   1.666778   (47.968436032533646, 2554)    1040.0  -64.482785  -1.157185   \n",
      "62   1.666778   (47.429267317056656, 2554)    1060.0  -64.311134  -1.176444   \n",
      "\n",
      "       adapt  latency    isi_cv  mean_isi  median_isi  first_isi  \n",
      "7        NaN  0.52540  0.000000  0.023440     0.02344    0.02344  \n",
      "10       NaN  0.09544  0.000000  0.088840     0.08884    0.08884  \n",
      "17       NaN  0.02516       NaN       NaN         NaN        NaN  \n",
      "18  0.768456  0.01780  0.768456  0.262240     0.26224    0.06072  \n",
      "19  0.662956  0.01704  0.662956  0.141940     0.14194    0.04784  \n",
      "20       NaN  0.01144  0.000000  0.031240     0.03124    0.03124  \n",
      "21  0.002955  0.01008  1.187446  0.161893     0.02668    0.02524  \n",
      "22  0.909783  0.01040  0.909783  0.267800     0.26780    0.02416  \n",
      "23  0.049709  0.01092  0.049709  0.030980     0.03098    0.02944  \n",
      "24  0.435441  0.00912  1.040566  0.093680     0.02668    0.02284  \n",
      "25  0.272872  0.00720  1.451120  0.094760     0.03008    0.01964  \n",
      "26  0.101383  0.00700  0.163251  0.024453     0.02540    0.01916  \n",
      "27  0.057649  0.00640  0.136540  0.021230     0.02112    0.01768  \n",
      "28  0.072449  0.00612  0.162004  0.021520     0.02130    0.01708  \n",
      "29  0.049640  0.00552  0.153893  0.021408     0.02152    0.01720  \n",
      "30  0.068866  0.00488  0.206834  0.021632     0.02068    0.01656  \n",
      "31  0.051189  0.00468  0.171202  0.021987     0.02132    0.01716  \n",
      "32  0.160229  0.00416  1.625930  0.061520     0.02542    0.01636  \n",
      "33  0.061472  0.00368  0.211513  0.022240     0.02186    0.01620  \n",
      "34  0.082912  0.01952  0.195728  0.023800     0.02230    0.01908  \n",
      "35  0.209711  0.01936  1.290333  0.072594     0.02468    0.01760  \n",
      "36  0.180131  0.01788  1.750891  0.082189     0.02320    0.01896  \n",
      "37  0.172072 -0.00028  1.313411  0.072250     0.02204    0.01792  \n",
      "38  0.200219 -0.00028  1.547782  0.066233     0.02192    0.01744  \n",
      "39  0.189651 -0.00028  1.433046  0.062515     0.02096    0.01632  \n",
      "40  0.041634 -0.00028  0.145872  0.020272     0.02024    0.01736  \n",
      "41  0.089836 -0.00032  0.701239  0.039645     0.02304    0.01536  \n",
      "42  0.151152 -0.00032  1.195570  0.061335     0.02140    0.01484  \n",
      "43  0.062504 -0.00032  0.170176  0.019712     0.01912    0.01436  \n",
      "44  0.080521 -0.00028  0.174072  0.017110     0.01680    0.01328  \n",
      "45  0.071950 -0.00028  0.120894  0.015947     0.01544    0.01388  \n",
      "46  0.070652 -0.00028  0.070652  0.014720     0.01472    0.01368  \n",
      "47  0.067606 -0.00028  0.067606  0.014200     0.01420    0.01324  \n",
      "48  0.056047 -0.00028  0.056047  0.013560     0.01356    0.01280  \n",
      "49  0.073394 -0.00028  0.073394  0.013080     0.01308    0.01212  \n",
      "50  0.072100 -0.00028  0.072100  0.012760     0.01276    0.01184  \n",
      "51  0.080119 -0.00028  0.080119  0.013480     0.01348    0.01240  \n",
      "52       NaN -0.00028  0.000000  0.012040     0.01204    0.01204  \n",
      "53       NaN -0.00028  0.000000  0.011800     0.01180    0.01180  \n",
      "54       NaN -0.00028  0.000000  0.011440     0.01144    0.01144  \n",
      "55       NaN -0.00028  0.000000  0.011040     0.01104    0.01104  \n",
      "56       NaN -0.00028  0.000000  0.010720     0.01072    0.01072  \n",
      "57       NaN -0.00028  0.000000  0.011080     0.01108    0.01108  \n",
      "58       NaN -0.00028  0.000000  0.010880     0.01088    0.01088  \n",
      "59       NaN -0.00028  0.000000  0.010560     0.01056    0.01056  \n",
      "60       NaN -0.00028  0.000000  0.010560     0.01056    0.01056  \n",
      "61       NaN -0.00028  0.000000  0.010240     0.01024    0.01024  \n",
      "62       NaN -0.00028  0.000000  0.010280     0.01028    0.01028  \n"
     ]
    },
    {
     "ename": "IndexError",
     "evalue": "list index out of range",
     "output_type": "error",
     "traceback": [
      "\u001b[0;31m---------------------------------------------------------------------------\u001b[0m",
      "\u001b[0;31mIndexError\u001b[0m                                Traceback (most recent call last)",
      "\u001b[0;32m<ipython-input-45-2fd4c75271ec>\u001b[0m in \u001b[0;36m<module>\u001b[0;34m\u001b[0m\n\u001b[0;32m----> 1\u001b[0;31m \u001b[0mprocess_sweeps\u001b[0m\u001b[0;34m(\u001b[0m\u001b[0mdata_set\u001b[0m\u001b[0;34m,\u001b[0m \u001b[0mgood_sweep_numbers\u001b[0m\u001b[0;34m,\u001b[0m \u001b[0msubthresh_min_amp\u001b[0m\u001b[0;34m=\u001b[0m\u001b[0;34m-\u001b[0m\u001b[0;36m200\u001b[0m\u001b[0;34m)\u001b[0m\u001b[0;34m\u001b[0m\u001b[0;34m\u001b[0m\u001b[0m\n\u001b[0m",
      "\u001b[0;32m<ipython-input-44-9b86fa9ec784>\u001b[0m in \u001b[0;36mprocess_sweeps\u001b[0;34m(data_set, sweep_numbers, subthresh_min_amp)\u001b[0m\n\u001b[1;32m     56\u001b[0m     \u001b[0mspiking_df\u001b[0m \u001b[0;34m=\u001b[0m \u001b[0mlsq_features\u001b[0m\u001b[0;34m[\u001b[0m\u001b[0;34m\"spiking_sweeps\"\u001b[0m\u001b[0;34m]\u001b[0m\u001b[0;34m\u001b[0m\u001b[0;34m\u001b[0m\u001b[0m\n\u001b[1;32m     57\u001b[0m     \u001b[0mprint\u001b[0m\u001b[0;34m(\u001b[0m\u001b[0mspiking_df\u001b[0m\u001b[0;34m)\u001b[0m\u001b[0;34m\u001b[0m\u001b[0;34m\u001b[0m\u001b[0m\n\u001b[0;32m---> 58\u001b[0;31m     \u001b[0mrheo_plus_80_number\u001b[0m \u001b[0;34m=\u001b[0m \u001b[0mspiking_df\u001b[0m\u001b[0;34m.\u001b[0m\u001b[0mloc\u001b[0m\u001b[0;34m[\u001b[0m\u001b[0mspiking_df\u001b[0m\u001b[0;34m[\u001b[0m\u001b[0;34m\"stim_amp\"\u001b[0m\u001b[0;34m]\u001b[0m \u001b[0;34m==\u001b[0m \u001b[0mrheo_amp\u001b[0m \u001b[0;34m+\u001b[0m \u001b[0;36m80\u001b[0m\u001b[0;34m,\u001b[0m \u001b[0;34m:\u001b[0m\u001b[0;34m]\u001b[0m\u001b[0;34m.\u001b[0m\u001b[0mindex\u001b[0m\u001b[0;34m.\u001b[0m\u001b[0mtolist\u001b[0m\u001b[0;34m(\u001b[0m\u001b[0;34m)\u001b[0m\u001b[0;34m[\u001b[0m\u001b[0;36m0\u001b[0m\u001b[0;34m]\u001b[0m\u001b[0;34m\u001b[0m\u001b[0;34m\u001b[0m\u001b[0m\n\u001b[0m\u001b[1;32m     59\u001b[0m     \u001b[0mprint\u001b[0m\u001b[0;34m(\u001b[0m\u001b[0mrheo_plus_80_number\u001b[0m\u001b[0;34m)\u001b[0m\u001b[0;34m\u001b[0m\u001b[0;34m\u001b[0m\u001b[0m\n\u001b[1;32m     60\u001b[0m \u001b[0;34m\u001b[0m\u001b[0m\n",
      "\u001b[0;31mIndexError\u001b[0m: list index out of range"
     ]
    }
   ],
   "source": [
    "process_sweeps(data_set, good_sweep_numbers, subthresh_min_amp=-200)"
   ]
  },
  {
   "cell_type": "code",
   "execution_count": 24,
   "metadata": {},
   "outputs": [
    {
     "name": "stdout",
     "output_type": "stream",
     "text": [
      "0\n",
      "2500 17499\n"
     ]
    }
   ],
   "source": [
    "rheo_num = None\n",
    "rheo_amp = -np.inf\n",
    "\n",
    "for sn in data_set._data.sweep_numbers:\n",
    "    print(sn)\n",
    "    try:\n",
    "        d = data_set.get_sweep_data(sn)\n",
    "        v = d[\"response\"] * 1e-3 # mV\n",
    "        i = d[\"stimulus\"] * 1e-12 # pA\n",
    "        t = np.arange(len(v)) * (1 / d[\"sampling_rate\"]) # seconds\n",
    "        \n",
    "        # Determine the sweep amplitude\n",
    "        min_i = np.min(i)\n",
    "        max_i = np.max(i)\n",
    "        if min_i < 0:\n",
    "            stim_amp = min_i\n",
    "        else:\n",
    "            stim_amp = max_i\n",
    "        \n",
    "        # Determine the start and end of the sweep\n",
    "        at_amp_ind = np.flatnonzero(i == stim_amp)\n",
    "        start_time = t[at_amp_ind[0]]\n",
    "        end_time = t[at_amp_ind[-1]]\n",
    "        \n",
    "        \n",
    "        \n",
    "    except:\n",
    "        continue"
   ]
  },
  {
   "cell_type": "code",
   "execution_count": 85,
   "metadata": {},
   "outputs": [
    {
     "name": "stderr",
     "output_type": "stream",
     "text": [
      "Could not find stimulus: NA\n",
      "Could not find stimulus: NA\n",
      "Could not find stimulus: NA\n",
      "Could not find stimulus: NA\n",
      "Could not find stimulus: NA\n",
      "Could not find stimulus: NA\n",
      "Could not find stimulus: NA\n",
      "Could not find stimulus: NA\n",
      "Could not find stimulus: NA\n",
      "Could not find stimulus: NA\n",
      "Could not find stimulus: NA\n",
      "Could not find stimulus: NA\n",
      "Could not find stimulus: NA\n",
      "Could not find stimulus: NA\n",
      "Could not find stimulus: NA\n",
      "Could not find stimulus: NA\n",
      "Could not find stimulus: NA\n",
      "Could not find stimulus: NA\n",
      "Could not find stimulus: NA\n",
      "Could not find stimulus: NA\n",
      "Could not find stimulus: NA\n",
      "Could not find stimulus: NA\n",
      "Could not find stimulus: NA\n",
      "Could not find stimulus: NA\n",
      "Could not find stimulus: NA\n",
      "Could not find stimulus: NA\n",
      "Could not find stimulus: NA\n",
      "Could not find stimulus: NA\n",
      "Could not find stimulus: NA\n",
      "Could not find stimulus: NA\n",
      "Could not find stimulus: NA\n",
      "Could not find stimulus: NA\n",
      "Could not find stimulus: NA\n",
      "Could not find stimulus: NA\n",
      "Could not find stimulus: NA\n",
      "Could not find stimulus: NA\n",
      "Could not find stimulus: NA\n",
      "Could not find stimulus: NA\n",
      "Could not find stimulus: NA\n",
      "Could not find stimulus: NA\n",
      "Could not find stimulus: NA\n",
      "Could not find stimulus: NA\n",
      "Could not find stimulus: NA\n",
      "Could not find stimulus: NA\n",
      "Could not find stimulus: NA\n",
      "Could not find stimulus: NA\n",
      "Could not find stimulus: NA\n",
      "Could not find stimulus: NA\n",
      "Could not find stimulus: NA\n",
      "Could not find stimulus: NA\n",
      "Could not find stimulus: NA\n",
      "Could not find stimulus: NA\n",
      "Could not find stimulus: NA\n",
      "Could not find stimulus: NA\n",
      "Could not find stimulus: NA\n",
      "Could not find stimulus: NA\n",
      "Could not find stimulus: NA\n",
      "Could not find stimulus: NA\n",
      "Could not find stimulus: NA\n",
      "Could not find stimulus: NA\n",
      "Could not find stimulus: NA\n",
      "Could not find stimulus: NA\n",
      "Could not find stimulus: NA\n",
      "Could not find stimulus: NA\n",
      "Could not find stimulus: NA\n",
      "Could not find stimulus: NA\n",
      "Could not find stimulus: NA\n",
      "Could not find stimulus: NA\n",
      "Could not find stimulus: NA\n",
      "Could not find stimulus: NA\n",
      "Could not find stimulus: NA\n",
      "Could not find stimulus: NA\n",
      "Could not find stimulus: NA\n",
      "Could not find stimulus: NA\n",
      "Could not find stimulus: NA\n",
      "Could not find stimulus: NA\n",
      "Could not find stimulus: NA\n",
      "Could not find stimulus: NA\n",
      "Could not find stimulus: NA\n"
     ]
    }
   ],
   "source": [
    "lsq_sweeps = data_set.sweep_set(good_sweep_numbers)"
   ]
  },
  {
   "cell_type": "code",
   "execution_count": 88,
   "metadata": {},
   "outputs": [],
   "source": [
    "# Correct sweep units\n",
    "for swp in lsq_sweeps.sweeps:\n",
    "    swp._i = swp._i * 1e-12\n",
    "    swp._v = swp._v * 1e-3\n",
    "\n",
    "swp = lsq_sweeps.sweeps[0]"
   ]
  },
  {
   "cell_type": "code",
   "execution_count": 89,
   "metadata": {},
   "outputs": [
    {
     "data": {
      "text/plain": [
       "[<matplotlib.lines.Line2D at 0x7f1bf6786590>]"
      ]
     },
     "execution_count": 89,
     "metadata": {},
     "output_type": "execute_result"
    },
    {
     "data": {
      "image/png": "[encoded data removed]",
      "text/plain": [
       "<Figure size 432x288 with 1 Axes>"
      ]
     },
     "metadata": {
      "needs_background": "light"
     },
     "output_type": "display_data"
    }
   ],
   "source": [
    "plt.plot(swp.t, swp.v)"
   ]
  },
  {
   "cell_type": "code",
   "execution_count": 90,
   "metadata": {},
   "outputs": [],
   "source": [
    "# Determine the sweep amplitude\n",
    "min_i = np.min(swp.i)\n",
    "max_i = np.max(swp.i)\n",
    "if min_i < 0:\n",
    "    stim_amp = min_i\n",
    "else:\n",
    "    stim_amp = max_i\n",
    "\n",
    "# Determine the start and end of the sweep\n",
    "at_amp_ind = np.flatnonzero(swp.i == stim_amp)\n",
    "start_ind = at_amp_ind[0]\n",
    "lsq_start = swp.t[at_amp_ind[0]]\n",
    "lsq_end = swp.t[at_amp_ind[-1]]\n",
    "\n",
    "lsq_spx, lsq_spfx = dsf.extractors_for_sweeps(\n",
    "    lsq_sweeps,\n",
    "    start=lsq_start,\n",
    "    end=lsq_end,\n",
    "    min_peak=-25,\n",
    "    **dsf.detection_parameters(data_set.LONG_SQUARE)\n",
    ")"
   ]
  },
  {
   "cell_type": "code",
   "execution_count": 119,
   "metadata": {},
   "outputs": [],
   "source": [
    "swp = lsq_sweeps.sweeps[14]"
   ]
  },
  {
   "cell_type": "code",
   "execution_count": 120,
   "metadata": {},
   "outputs": [
    {
     "name": "stdout",
     "output_type": "stream",
     "text": [
      "15 100.0\n"
     ]
    },
    {
     "data": {
      "text/plain": [
       "[<matplotlib.lines.Line2D at 0x7f1c03b0d090>]"
      ]
     },
     "execution_count": 120,
     "metadata": {},
     "output_type": "execute_result"
    },
    {
     "data": {
      "image/png": "[encoded data removed]",
      "text/plain": [
       "<Figure size 432x288 with 1 Axes>"
      ]
     },
     "metadata": {
      "needs_background": "light"
     },
     "output_type": "display_data"
    },
    {
     "data": {
      "image/png": "[encoded data removed]",
      "text/plain": [
       "<Figure size 432x288 with 1 Axes>"
      ]
     },
     "metadata": {
      "needs_background": "light"
     },
     "output_type": "display_data"
    }
   ],
   "source": [
    "print(swp.sweep_number, np.max(swp.i))\n",
    "plt.plot(swp.t, swp.v)\n",
    "res = lsq_spx.process(swp.t, swp.v, swp.i)\n",
    "plt.scatter(res[\"threshold_t\"], res[\"threshold_v\"])\n",
    "plt.figure()\n",
    "plt.plot(swp.t, swp.i)"
   ]
  },
  {
   "cell_type": "code",
   "execution_count": null,
   "metadata": {},
   "outputs": [],
   "source": [
    "lsq_spx.process(swp.t, swp.v, swp.i)"
   ]
  },
  {
   "cell_type": "code",
   "execution_count": null,
   "metadata": {},
   "outputs": [],
   "source": []
  }
 ],
 "metadata": {
  "kernelspec": {
   "display_name": "Python 3",
   "language": "python",
   "name": "python3"
  },
  "language_info": {
   "codemirror_mode": {
    "name": "ipython",
    "version": 3
   },
   "file_extension": ".py",
   "mimetype": "text/x-python",
   "name": "python",
   "nbconvert_exporter": "python",
   "pygments_lexer": "ipython3",
   "version": "3.7.7"
  }
 },
 "nbformat": 4,
 "nbformat_minor": 4
}
