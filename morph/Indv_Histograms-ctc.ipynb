{
 "cells": [
  {
   "cell_type": "code",
   "execution_count": 3,
   "metadata": {},
   "outputs": [],
   "source": [
    "#from neuron_morphology.features.feature_extractor import MorphologyFeatures\n",
    "import numpy as np\n",
    "import pandas as pd\n",
    "#import argschema as ags\n",
    "import lims_utils\n",
    "import layer_counts.layer_counts as lc\n",
    "from PIL import Image\n",
    "import urllib\n",
    "import matplotlib.pyplot as plt\n",
    "import seaborn as sns\n",
    "import allensdk.core.swc as swc\n",
    "import io\n",
    "from multiprocessing import Pool\n",
    "import glob\n",
    "import os\n",
    "import json\n",
    "import matplotlib.path as mplPath\n",
    "from morph_features.morph_features.features import natural_sort_key\n",
    "#from neuron_morphology import swc\n",
    "\n",
    "\n",
    "with open('/Users/alice/neuron_morphology_scripts/tolias_m1/mouse_m1_me_and_met_avg_layer_depths.json') as j:\n",
    "    layer_depths = json.load(j)\n",
    "    "
   ]
  },
  {
   "cell_type": "code",
   "execution_count": 16,
   "metadata": {},
   "outputs": [],
   "source": [
    "#sps_info = pd.read_csv('/Users/alice/neuron_morphology_scripts/tolias_m1/v1/M1_V1_cell_info++.csv')\n",
    "sps_info = pd.read_csv(r'/Users/alice/neuron_morphology_scripts/tolias_m1/m1_patchseq_meta_data.csv', sep='\\t')\n",
    "sps_info = sps_info[['Cell', 'RNA type']]\n",
    "sps_info.rename(columns = {'Cell':'specimen_id'}, inplace = True)"
   ]
  },
  {
   "cell_type": "code",
   "execution_count": 17,
   "metadata": {},
   "outputs": [],
   "source": [
    "histogram_df = pd.read_csv(r'/Users/alice/neuron_morphology_scripts/cell_types_card/histogram.csv')\n",
    "histogram_df['specimen_id'] = [t[:-10] for t in histogram_df['specimen_id']]\n"
   ]
  },
  {
   "cell_type": "code",
   "execution_count": 18,
   "metadata": {},
   "outputs": [],
   "source": [
    "merged_histogram = histogram_df.merge(sps_info,left_on='specimen_id',right_on='specimen_id')\n",
    "\n",
    "\n",
    "all_cols_mouse = sorted(histogram_df.columns, key=natural_sort_key)\n",
    "ax_cols = sorted([c for c in merged_histogram.columns if c.startswith('2_')],key=natural_sort_key)\n",
    "basal_dend_cols = sorted([c for c in merged_histogram.columns if c.startswith('3_')],key=natural_sort_key)\n",
    "apical_dend_cols = sorted([c for c in merged_histogram.columns if c.startswith('4_')],key=natural_sort_key)\n",
    "columns_dict = {'apical':apical_dend_cols,'basal':basal_dend_cols,'axon':ax_cols}"
   ]
  },
  {
   "cell_type": "code",
   "execution_count": 19,
   "metadata": {},
   "outputs": [],
   "source": [
    "def sroot(m):\n",
    "    \"\"\" Returns root node of soma, if present\"\"\"\n",
    "    if len(m._tree_list) > 0 and m._tree_list[0][0]['type'] == 1:\n",
    "        return m._tree_list[0][0]\n",
    "    return None"
   ]
  },
  {
   "cell_type": "code",
   "execution_count": 20,
   "metadata": {
    "scrolled": true
   },
   "outputs": [],
   "source": [
    "sps = []\n",
    "la_depths = []\n",
    "missing_sps = []\n",
    "for sp in merged_histogram.specimen_id:\n",
    "    #print(sp)\n",
    "    sps.append(sp)\n",
    "    #la_morph = '/Users/alice/neuron_morphology_scripts/tolias_m1/v1/v1_final_hist/{}_pruned.swc_connected_smoothed_marked_fixed.swc'.format(sp)\n",
    "    la_morph = '/Users/alice/neuron_morphology_scripts/cell_types_card/la_swc/{}_fixed.swc'.format(sp)\n",
    "    try:\n",
    "        morpho = swc.read_swc(la_morph)\n",
    "        la_d = abs(sroot(morpho)['y'])\n",
    "        la_depths.append(la_d)\n",
    "    except:\n",
    "        print(sp, 'bad:', la_morph)\n",
    "        la_depths.append(np.nan)\n",
    "        missing_sps.append(sp)\n",
    "    \n",
    "depths_df = pd.DataFrame({'specimen_id':sps,'layer_aligned_depth':la_depths})\n",
    "merged_histogram = merged_histogram.merge(depths_df,left_on='specimen_id',right_on='specimen_id')"
   ]
  },
  {
   "cell_type": "code",
   "execution_count": 22,
   "metadata": {},
   "outputs": [],
   "source": [
    "color_dict = {'L5 ET_1' : '#0d5d7e', 'L5 ET_2': '#2686af', 'L5 ET_3': '#3aa1b6', 'L5 ET_4': '#0a75b1' , 'Pvalb Vipr2_2': '#f4358b' }"
   ]
  },
  {
   "cell_type": "code",
   "execution_count": 42,
   "metadata": {},
   "outputs": [
    {
     "data": {
      "text/plain": [
       "-6.793379999999988"
      ]
     },
     "execution_count": 42,
     "metadata": {},
     "output_type": "execute_result"
    }
   ],
   "source": []
  },
  {
   "cell_type": "code",
   "execution_count": null,
   "metadata": {},
   "outputs": [],
   "source": []
  },
  {
   "cell_type": "code",
   "execution_count": 24,
   "metadata": {
    "scrolled": true
   },
   "outputs": [
    {
     "name": "stdout",
     "output_type": "stream",
     "text": [
      "20171207_sample_2\n",
      "20171219_sample_6\n",
      "20180102_sample_1\n",
      "20180118_sample_10\n",
      "20180123_sample_7\n",
      "20180225_sample_5\n",
      "20190214_sample_1\n",
      "20190619_sample_5\n",
      "20190926_sample_2\n",
      "20191030_sample_3\n"
     ]
    },
    {
     "data": {
      "text/plain": [
       "<Figure size 432x1080 with 0 Axes>"
      ]
     },
     "metadata": {},
     "output_type": "display_data"
    },
    {
     "data": {
      "text/plain": [
       "<Figure size 432x1080 with 0 Axes>"
      ]
     },
     "metadata": {},
     "output_type": "display_data"
    },
    {
     "data": {
      "text/plain": [
       "<Figure size 432x1080 with 0 Axes>"
      ]
     },
     "metadata": {},
     "output_type": "display_data"
    },
    {
     "data": {
      "text/plain": [
       "<Figure size 432x1080 with 0 Axes>"
      ]
     },
     "metadata": {},
     "output_type": "display_data"
    },
    {
     "data": {
      "text/plain": [
       "<Figure size 432x1080 with 0 Axes>"
      ]
     },
     "metadata": {},
     "output_type": "display_data"
    },
    {
     "data": {
      "text/plain": [
       "<Figure size 432x1080 with 0 Axes>"
      ]
     },
     "metadata": {},
     "output_type": "display_data"
    },
    {
     "data": {
      "text/plain": [
       "<Figure size 432x1080 with 0 Axes>"
      ]
     },
     "metadata": {},
     "output_type": "display_data"
    },
    {
     "data": {
      "text/plain": [
       "<Figure size 432x1080 with 0 Axes>"
      ]
     },
     "metadata": {},
     "output_type": "display_data"
    },
    {
     "data": {
      "text/plain": [
       "<Figure size 432x1080 with 0 Axes>"
      ]
     },
     "metadata": {},
     "output_type": "display_data"
    },
    {
     "data": {
      "text/plain": [
       "<Figure size 432x1080 with 0 Axes>"
      ]
     },
     "metadata": {},
     "output_type": "display_data"
    }
   ],
   "source": [
    "\n",
    "uniq_labels = sorted(merged_histogram['specimen_id'].unique())\n",
    "\n",
    "contrast_level = 0.45\n",
    "\n",
    "for sp in uniq_labels:\n",
    "    print(sp)\n",
    "    this_sp = merged_histogram[merged_histogram['specimen_id']==sp]   \n",
    "    ttype = this_sp.iloc[0]['RNA type']\n",
    "    col = color_dict[ttype]\n",
    "    axon_rgb = (tuple(int(col[1:][i:i+2], 16) for i in (0, 2, 4))) \n",
    "    axon_std = axon_rgb + (105,)\n",
    "    axon_rgba = tuple([(x/float(255)) for x in axon_std])\n",
    "\n",
    "\n",
    "    fig, axes = plt.subplots(3, 1, sharex=True,sharey=True, figsize=(6, 15))\n",
    "    fig.suptitle(sp,y=0.98)\n",
    "\n",
    "    outfile = '/Users/alice/neuron_morphology_scripts/cell_types_card/hist/{}.png'.format(sp)\n",
    "\n",
    "    #col_ct = 0\n",
    "\n",
    "\n",
    "    soma_depths = this_sp['layer_aligned_depth'].values\n",
    "    soma_xs = np.zeros(len(soma_depths))\n",
    "\n",
    "    row_ct=-1\n",
    "    for label in ['apical','basal','axon']:\n",
    "        label_columns = columns_dict[label]\n",
    "        row_ct+=1\n",
    "        ax = axes[row_ct]\n",
    "        ax.set_ylim(0,1200)\n",
    "\n",
    "        ax.invert_yaxis()\n",
    "        #ax.set_title(\"{} (n={})\".format(label,len(this_tt)))\n",
    "        this_sp_compart = this_sp[label_columns]\n",
    "        average_line = this_sp_compart.mean().values\n",
    "        sem = this_sp_compart.sem().values\n",
    "\n",
    "        lower_bound = average_line-sem\n",
    "        upper_bound = average_line+sem\n",
    "        lower_bound[lower_bound==0]=np.nan\n",
    "        upper_bound[upper_bound==0]=np.nan\n",
    "        average_line[average_line==0] = np.nan\n",
    "\n",
    "        ax.fill_betweenx(np.arange(len(this_sp_compart.values.mean(axis=0))) * 5,lower_bound,\n",
    "                 upper_bound,color=axon_rgba)\n",
    "\n",
    "        ax.plot(average_line, np.arange(this_sp_compart.values.shape[1]) * 5., lw=2,c=col)\n",
    "        ax.axhline(0, c=\"lightgrey\")\n",
    "        for v in layer_depths.values():\n",
    "            ax.axhline(v, c=\"lightgrey\")\n",
    "\n",
    "        ax.scatter(soma_xs,soma_depths,facecolors='none', edgecolors='k')\n",
    "\n",
    "\n",
    "    \n",
    "    fig.savefig(outfile,dpi=300,bbox_inches='tight')\n",
    "    plt.clf()"
   ]
  }
 ],
 "metadata": {
  "kernelspec": {
   "display_name": "Python 3",
   "language": "python",
   "name": "python3"
  },
  "language_info": {
   "codemirror_mode": {
    "name": "ipython",
    "version": 3
   },
   "file_extension": ".py",
   "mimetype": "text/x-python",
   "name": "python",
   "nbconvert_exporter": "python",
   "pygments_lexer": "ipython3",
   "version": "3.6.12"
  }
 },
 "nbformat": 4,
 "nbformat_minor": 4
}
