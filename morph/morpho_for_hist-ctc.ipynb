{
 "cells": [
  {
   "cell_type": "code",
   "execution_count": 1,
   "metadata": {},
   "outputs": [],
   "source": [
    "import numpy as np\n",
    "import pandas as pd\n",
    "import matplotlib\n",
    "import matplotlib.pyplot as plt\n",
    "import json\n",
    "import os\n",
    "from os.path import join\n",
    "import allensdk.core.swc as swc\n",
    "import glob"
   ]
  },
  {
   "cell_type": "code",
   "execution_count": 2,
   "metadata": {},
   "outputs": [],
   "source": [
    "def to_dict(swc_file, scaling):\n",
    "    nodes = {}\n",
    "    with open(swc_file, \"r\") as f:\n",
    "        for line in f:\n",
    "            if line.lstrip().startswith('#'):\n",
    "                continue\n",
    "            toks = line.split()\n",
    "            node_dict = {\n",
    "                'id' : int(toks[0]),\n",
    "                'type' : int(toks[1]),\n",
    "                'x' : float(toks[2])/scaling * 1000,\n",
    "                'y' : float(toks[3])/scaling * 1000,\n",
    "                'z' : float(toks[4])/scaling * 1000,\n",
    "                'radius' : float(toks[5]),\n",
    "                'parent' : int(toks[6].rstrip())\n",
    "            }\n",
    "            nodes[int(toks[0])] = node_dict\n",
    "\n",
    "    return nodes\n",
    "\n",
    "def shift(x, y, z, morpho):\n",
    "\tfor node in morpho.keys():\n",
    "\t\tmorpho[node]['x'] += x\n",
    "\t\tmorpho[node]['y'] += y\n",
    "\t\tmorpho[node]['z'] += z\n",
    "\t\t\n",
    "\treturn morpho\n",
    "\n",
    "def dict_to_swc(neuron_dict, filename):\n",
    "    \"\"\"\n",
    "    Takes a neuron dictionary and converts to a swc file\n",
    "    \"\"\"\n",
    "    f = open(filename, 'w')\n",
    "    f.write(\"# id,type,x,y,z,r,pid\\n\")\n",
    "    for vals in neuron_dict.values():\n",
    "        f.write(\"%d %d \" % (vals['id'], vals['type']))\n",
    "        f.write(\"%.4f \" % vals['x'])\n",
    "        f.write(\"%.4f \" % vals['y'])\n",
    "        f.write(\"%.4f \" % vals['z'])\n",
    "        f.write(\"%.4f \" % vals['radius'])\n",
    "        f.write(\"%d\\n\" % vals['parent'])\n",
    "    f.close()\n"
   ]
  },
  {
   "cell_type": "code",
   "execution_count": 3,
   "metadata": {},
   "outputs": [
    {
     "data": {
      "text/plain": [
       "10"
      ]
     },
     "execution_count": 3,
     "metadata": {},
     "output_type": "execute_result"
    }
   ],
   "source": [
    "swc_dir = r'/Users/alice/neuron_morphology_scripts/cell_types_card/swc_files'\n",
    "outdir = r'/Users/alice/neuron_morphology_scripts/cell_types_card/la_swc'\n",
    "\n",
    "\n",
    "os.chdir(swc_dir)\n",
    "files = glob.glob('*.swc')\n",
    "len(files)"
   ]
  },
  {
   "cell_type": "code",
   "execution_count": 4,
   "metadata": {},
   "outputs": [
    {
     "name": "stdout",
     "output_type": "stream",
     "text": [
      "Number of cells with measured depth:     1284\n",
      "Number of cells with measured thickness: 1284\n",
      "Number of reconstructed cells:           646\n",
      "Number of slices with two cells:         69\n"
     ]
    }
   ],
   "source": [
    "# META DATA\n",
    "\n",
    "meta = pd.read_csv(r'/Users/alice/neuron_morphology_scripts/tolias_m1/m1_patchseq_meta_data.csv', sep='\\t')\n",
    "\n",
    "cells = meta['Cell'].values\n",
    "\n",
    "depth = meta['Soma depth (µm)'].values\n",
    "depth[depth=='Slice Lost'] = np.nan\n",
    "depth = depth.astype(float)\n",
    "thickness = meta['Cortical thickness (µm)'].values\n",
    "thickness[thickness==0] = np.nan\n",
    "thickness = thickness.astype(float)\n",
    "traced = meta['Traced'].values=='y'\n",
    "exclude = meta['Exclusion reasons'].values.astype(str)\n",
    "exclude[exclude=='nan'] = ''\n",
    "\n",
    "mice_names = meta['Mouse'].values\n",
    "mice_ages = meta['Mouse age'].values\n",
    "mice_cres = np.array([c if c[-1]!='+' and c[-1]!='-' else c[:-1] for c in meta['Cre'].values])\n",
    "mice_ages = dict(zip(mice_names, mice_ages))\n",
    "mice_cres = dict(zip(mice_names, mice_cres))\n",
    "\n",
    "print('Number of cells with measured depth:    ', np.sum(~np.isnan(depth)))\n",
    "print('Number of cells with measured thickness:', np.sum(~np.isnan(thickness)))\n",
    "print('Number of reconstructed cells:          ', np.sum(traced))\n",
    "\n",
    "sliceids = meta['Slice'].values\n",
    "a,b = np.unique(sliceids, return_counts=True)\n",
    "assert np.all(b<=2)\n",
    "print('Number of slices with two cells:        ', np.sum(b==2))\n",
    "\n",
    "# Some consistency checks\n",
    "assert np.all([np.unique(meta['Date'].values[mice_names==m]).size==1 for m in mice_names])\n",
    "assert np.all([np.unique(meta['Mouse age'].values[mice_names==m]).size==1 for m in mice_names])\n",
    "assert np.all([np.unique(meta['Mouse gender'].values[mice_names==m]).size==1 for m in mice_names])\n",
    "assert np.all([np.unique(meta['Mouse genotype'].values[mice_names==m]).size==1 for m in mice_names])\n",
    "assert np.all([np.unique(meta['Mouse'].values[sliceids==s]).size==1 for s in sliceids])"
   ]
  },
  {
   "cell_type": "code",
   "execution_count": 5,
   "metadata": {},
   "outputs": [],
   "source": [
    "def sroot(m):\n",
    "    \"\"\" Returns root node of soma, if present\"\"\"\n",
    "    if len(m._tree_list) > 0 and m._tree_list[0][0]['type'] == 1:\n",
    "        return m._tree_list[0][0]\n",
    "    return None"
   ]
  },
  {
   "cell_type": "code",
   "execution_count": 6,
   "metadata": {},
   "outputs": [
    {
     "name": "stdout",
     "output_type": "stream",
     "text": [
      "Processing 20190619_sample_5\n",
      "Processing 20171219_sample_6\n",
      "Processing 20190214_sample_1\n",
      "Processing 20191030_sample_3\n",
      "Processing 20180225_sample_5\n",
      "Processing 20180102_sample_1\n",
      "Processing 20180118_sample_10\n",
      "Processing 20190926_sample_2\n",
      "Processing 20171207_sample_2\n",
      "Processing 20180123_sample_7\n"
     ]
    }
   ],
   "source": [
    "\n",
    "for f in files:\n",
    "    #sp = str(f[:-41])\n",
    "    #print(f)\n",
    "    \n",
    "    \n",
    "    if '.SWC' in f:\n",
    "        sp = f[:-38]\n",
    "    else:\n",
    "        sp = str(f[:-41])\n",
    "    print(\"Processing\", sp)\n",
    "    \n",
    "    #find shrinkage factor\n",
    "    ix = np.where(cells == sp)\n",
    "    tthick = thickness[ix]\n",
    "    tdep = depth[ix]\n",
    "    #scaling_factor = \n",
    "    sdep = tdep/tthick * 1000\n",
    "    \n",
    "    mdict = to_dict(join(swc_dir, f), tthick)\n",
    "    soma_shift = sdep - mdict[1]['y']\n",
    "    smdict = shift(0, soma_shift, 0, mdict)\n",
    "    dict_to_swc(smdict, join(outdir, sp + '_fixed.swc'))\n",
    "\n"
   ]
  },
  {
   "cell_type": "code",
   "execution_count": 7,
   "metadata": {},
   "outputs": [
    {
     "data": {
      "text/plain": [
       "'/Users/alice/neuron_morphology_scripts/cell_types_card/la_swc'"
      ]
     },
     "execution_count": 7,
     "metadata": {},
     "output_type": "execute_result"
    }
   ],
   "source": [
    "outdir"
   ]
  },
  {
   "cell_type": "code",
   "execution_count": 8,
   "metadata": {},
   "outputs": [
    {
     "data": {
      "text/plain": [
       "38"
      ]
     },
     "execution_count": 8,
     "metadata": {},
     "output_type": "execute_result"
    }
   ],
   "source": [
    "ext = '.SWC_pruned.swc_connected_smoothed.swc'\n",
    "len(ext)"
   ]
  },
  {
   "cell_type": "code",
   "execution_count": 9,
   "metadata": {},
   "outputs": [
    {
     "data": {
      "text/plain": [
       "41"
      ]
     },
     "execution_count": 9,
     "metadata": {},
     "output_type": "execute_result"
    }
   ],
   "source": [
    "ext = '_pruned.swc_connected_smoothed_marked.swc'\n",
    "len(ext)"
   ]
  },
  {
   "cell_type": "code",
   "execution_count": 10,
   "metadata": {},
   "outputs": [
    {
     "data": {
      "text/plain": [
       "'20190619_sample_5'"
      ]
     },
     "execution_count": 10,
     "metadata": {},
     "output_type": "execute_result"
    }
   ],
   "source": [
    "t = '20190619_sample_5.SWC_pruned.swc_connected_smoothed.swc'\n",
    "t[:-38]"
   ]
  }
 ],
 "metadata": {
  "kernelspec": {
   "display_name": "Python 3",
   "language": "python",
   "name": "python3"
  },
  "language_info": {
   "codemirror_mode": {
    "name": "ipython",
    "version": 3
   },
   "file_extension": ".py",
   "mimetype": "text/x-python",
   "name": "python",
   "nbconvert_exporter": "python",
   "pygments_lexer": "ipython3",
   "version": "3.6.12"
  }
 },
 "nbformat": 4,
 "nbformat_minor": 4
}
